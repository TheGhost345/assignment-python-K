{
 "cells": [
  {
   "cell_type": "markdown",
   "id": "e7e38c57-066e-405b-b7ac-140d8e9f6785",
   "metadata": {},
   "source": [
    "**1. Explain the significance of Python keywords and provide examples of five keywords**"
   ]
  },
  {
   "cell_type": "markdown",
   "id": "a8ac3277-5419-4ec4-960d-4b2781c004fc",
   "metadata": {},
   "source": [
    "Python keywords are reserved words in the Python, each holding a specific and predefined meaning. These words cannot be utilized as identifiers, such as variable names or function names, as they are dedicated to specific functionalities."
   ]
  },
  {
   "cell_type": "code",
   "execution_count": 6,
   "id": "318cc2bc-14ac-424c-938e-009b4e7cc593",
   "metadata": {},
   "outputs": [
    {
     "name": "stdout",
     "output_type": "stream",
     "text": [
      "53  is greater\n",
      "296  is greater\n",
      "45\n",
      "Kanha\n",
      "44\n",
      "45\n",
      "Kanha\n",
      "44\n",
      "True\n"
     ]
    }
   ],
   "source": [
    "a = 53\n",
    "b = 22\n",
    "# 1. if\n",
    "\n",
    "if a > b:\n",
    "    print(f'{a}  is greater')\n",
    "    \n",
    "b = 296\n",
    "\n",
    "\n",
    "# 2. else\n",
    "if a > b:\n",
    "    print(f'{a}  is greater')\n",
    "    \n",
    "else:\n",
    "    print(f'{b}  is greater')\n",
    "    \n",
    "l = [45, 'Kanha', 44]\n",
    "\n",
    "\n",
    "# 3. for\n",
    "for i in l:\n",
    "    print(i)\n",
    "    \n",
    "a = 0\n",
    "# 4. while\n",
    "while a < len(l):\n",
    "    print(l[a])\n",
    "    a+=1\n",
    "\n",
    "# 5. in\n",
    "print(45 in l)"
   ]
  },
  {
   "cell_type": "code",
   "execution_count": null,
   "id": "119c49bd-c9c8-4aea-bb28-81c2e647fbd9",
   "metadata": {},
   "outputs": [],
   "source": []
  },
  {
   "cell_type": "markdown",
   "id": "f7ce1dc4-2f2c-4d0f-86da-a57c0db80c07",
   "metadata": {},
   "source": [
    "**2. Describe the rules for defining identifiers in Python and provide an example**"
   ]
  },
  {
   "cell_type": "markdown",
   "id": "70ac6103-7486-46f9-b39f-f69b1e6b546f",
   "metadata": {},
   "source": [
    "rules of identifiers:\n",
    "1. we can use letters, number and underscore\n",
    "2. it must starts with a letter or underscore\n",
    "3. identifiers should not be keywords\n",
    "4. it is case sensitive"
   ]
  },
  {
   "cell_type": "code",
   "execution_count": 7,
   "id": "4b59853c-0a02-411c-8f1d-33293485f9db",
   "metadata": {},
   "outputs": [
    {
     "name": "stdout",
     "output_type": "stream",
     "text": [
      "10\n"
     ]
    }
   ],
   "source": [
    "# Example\n",
    "\n",
    "num = 10\n",
    "print(num)"
   ]
  },
  {
   "cell_type": "code",
   "execution_count": null,
   "id": "58ab667e-84bf-4283-b1dd-70f8aee7e1ee",
   "metadata": {},
   "outputs": [],
   "source": []
  },
  {
   "cell_type": "markdown",
   "id": "2ae3b6e2-6cd2-4009-aa54-f5f95ff9d9d9",
   "metadata": {},
   "source": [
    "**3. What are comments in Python, and why are they useful? Provide an example**"
   ]
  },
  {
   "cell_type": "markdown",
   "id": "116cea58-1840-4d22-b1d2-3a582f37f0dd",
   "metadata": {},
   "source": [
    "Comments are notes in Python code that are ignored during execution by interpiter. They provide explanations, extra information and enhance code readability\n",
    "\n",
    "it is usefull because:\n",
    "1. Documentation: to helping developer understand the purpose and logic\n",
    "2. Readability: it makes codes maintainable and readable\n",
    "3. Debugiing: it use temporarily disable the code"
   ]
  },
  {
   "cell_type": "code",
   "execution_count": 9,
   "id": "c7ff9eff-0cf4-4986-8ffd-a3a3ca0506e3",
   "metadata": {},
   "outputs": [
    {
     "name": "stdout",
     "output_type": "stream",
     "text": [
      "result :  5\n"
     ]
    }
   ],
   "source": [
    "# Example\n",
    "\n",
    "n1 = 1\n",
    "n2 = 4\n",
    "\n",
    "res = n1 + n2 #sum of 2 numbers\n",
    "\n",
    "# display\n",
    "print('result : ',res)"
   ]
  },
  {
   "cell_type": "code",
   "execution_count": null,
   "id": "10ef3cd4-b5bd-4e3a-a5d2-d4a505019343",
   "metadata": {},
   "outputs": [],
   "source": []
  },
  {
   "cell_type": "markdown",
   "id": "766f0822-46fd-4b31-a802-cbfa4c99c174",
   "metadata": {},
   "source": [
    "**4.  Why is proper indentation important in Python**"
   ]
  },
  {
   "cell_type": "markdown",
   "id": "b521dfd6-d322-4ba6-be0d-8a3349af9563",
   "metadata": {},
   "source": [
    "Indention is crucial in Python for readability and structure. It defines code blocks, enhances readability, and ensures proper interpretation. Consistent and correct indentation is essential to avoid errors and maintain code clarity."
   ]
  },
  {
   "cell_type": "code",
   "execution_count": 16,
   "id": "f4c11d09-d38a-4aa2-a669-012c1aeac7e4",
   "metadata": {},
   "outputs": [
    {
     "name": "stdout",
     "output_type": "stream",
     "text": [
      "7 is greater\n"
     ]
    }
   ],
   "source": [
    "# Example\n",
    "\n",
    "a, b, c = 5, 4, 7\n",
    "if a > b:\n",
    "    if a > c:\n",
    "        print(a, 'is greater')\n",
    "    else:\n",
    "        print(c, 'is greater')\n",
    "elif b > c:\n",
    "    print(b, 'is greater')\n",
    "else:\n",
    "    print(c, 'is greater')"
   ]
  },
  {
   "cell_type": "code",
   "execution_count": null,
   "id": "b0cacb76-e205-430f-8af9-868fa80f37a0",
   "metadata": {},
   "outputs": [],
   "source": []
  },
  {
   "cell_type": "markdown",
   "id": "aaf14ce3-bb71-45ad-ba2a-c825cfef4829",
   "metadata": {},
   "source": [
    "**5. What happens if indentation is incorrect in Python?**"
   ]
  },
  {
   "cell_type": "markdown",
   "id": "7fcd4b09-28aa-46ec-a58e-9ef04cc372bb",
   "metadata": {},
   "source": [
    "It can cause syntax errors, preventing code execution, and lead to logical errors, causing unexpected behavior. Correct and consistent indentation is essential for proper code interpretation and readability."
   ]
  },
  {
   "cell_type": "code",
   "execution_count": 19,
   "id": "bb05678b-4133-4be9-a347-8bd3747c5bfc",
   "metadata": {},
   "outputs": [],
   "source": [
    "# Example\n",
    "\n",
    "for i in range(5):\n",
    "# print('hi')  error"
   ]
  },
  {
   "cell_type": "code",
   "execution_count": null,
   "id": "f6ef4372-6776-4f11-bbf5-6ebfee58fb9a",
   "metadata": {},
   "outputs": [],
   "source": []
  },
  {
   "cell_type": "markdown",
   "id": "1def1747-35b1-430d-9730-b0476c2a46b4",
   "metadata": {},
   "source": [
    "**6. Differentiate 0etween expression and statement in Python with examples**"
   ]
  },
  {
   "cell_type": "markdown",
   "id": "69d0c371-8500-49f5-9dcf-ec2b57d8161d",
   "metadata": {},
   "source": [
    "An expression evaluates to a value, while a statement performs an action.\n",
    "Expressions can be part of a statement, but not all statements are expressions.\n",
    "Statements often involve control flow structures like if, else, while, for, etc."
   ]
  },
  {
   "cell_type": "code",
   "execution_count": 21,
   "id": "7a22e5e9-4f0b-48fc-a96b-7d628920d1fd",
   "metadata": {},
   "outputs": [],
   "source": [
    "x = 5            # Variable assignment is an expression\n",
    "y = x + 3        # Arithmetic operation is an expression\n",
    "is_greater = y > 5  # Comparison is an expression\n"
   ]
  },
  {
   "cell_type": "code",
   "execution_count": 22,
   "id": "a59c8d03-0a39-43c6-91a5-4188d7842d7c",
   "metadata": {},
   "outputs": [
    {
     "name": "stdout",
     "output_type": "stream",
     "text": [
      "5\n",
      "Positive number\n"
     ]
    }
   ],
   "source": [
    "x = 5            # Assignment statement\n",
    "print(x)         # Print statement\n",
    "if x > 0:        # Conditional statement\n",
    "    print(\"Positive number\")\n"
   ]
  },
  {
   "cell_type": "code",
   "execution_count": null,
   "id": "ccb4cd5c-a4bf-4844-8e66-92364c39103c",
   "metadata": {},
   "outputs": [],
   "source": []
  }
 ],
 "metadata": {
  "kernelspec": {
   "display_name": "Python 3 (ipykernel)",
   "language": "python",
   "name": "python3"
  },
  "language_info": {
   "codemirror_mode": {
    "name": "ipython",
    "version": 3
   },
   "file_extension": ".py",
   "mimetype": "text/x-python",
   "name": "python",
   "nbconvert_exporter": "python",
   "pygments_lexer": "ipython3",
   "version": "3.10.8"
  }
 },
 "nbformat": 4,
 "nbformat_minor": 5
}
